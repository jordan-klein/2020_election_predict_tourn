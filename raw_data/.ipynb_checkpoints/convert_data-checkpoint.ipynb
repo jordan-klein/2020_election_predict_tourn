{
 "cells": [
  {
   "cell_type": "markdown",
   "metadata": {},
   "source": [
    "## Reformat Raw Data"
   ]
  },
  {
   "cell_type": "markdown",
   "metadata": {},
   "source": [
    "Reformat the data into the following columns: <br/>\n",
    "date -- date that the model was run<br/>\n",
    "state -- state that we are predicting <br/>\n",
    "dem_chance -- probability that state is won by Joseph Biden (D)<br/>\n",
    "rep_chance -- probability that the state is won by Donald Trump (R)<br/>\n"
   ]
  },
  {
   "cell_type": "code",
   "execution_count": 1,
   "metadata": {},
   "outputs": [],
   "source": [
    "import csv\n",
    "import pandas as pd"
   ]
  },
  {
   "cell_type": "markdown",
   "metadata": {},
   "source": [
    "### 538 Model"
   ]
  },
  {
   "cell_type": "code",
   "execution_count": 9,
   "metadata": {},
   "outputs": [],
   "source": [
    "with open('538_2020.csv', 'r') as read_obj, \\\n",
    "    open('538_cleaned.csv', 'w', newline='') as write_obj:\n",
    "        csv_reader = csv.reader(read_obj)\n",
    "        csv_writer = csv.writer(write_obj)\n",
    "        count = 0 \n",
    "        \n",
    "        for row in csv_reader:\n",
    "            if count is 0:\n",
    "                row = ['date', 'state', 'dem_chance', 'rep_chance']\n",
    "                count += 1\n",
    "            else:\n",
    "                date = row[3]\n",
    "                state = row[7]\n",
    "                dem_chance = row[11]\n",
    "                rep_chance = row[10]\n",
    "                row = [date, state, dem_chance, rep_chance]\n",
    "            csv_writer.writerow(row)"
   ]
  },
  {
   "cell_type": "markdown",
   "metadata": {},
   "source": [
    "### JHK Model"
   ]
  },
  {
   "cell_type": "code",
   "execution_count": 3,
   "metadata": {},
   "outputs": [],
   "source": [
    "df = pd.read_csv('jhk_2020.csv')\n",
    "\n",
    "with open('jhk_cleaned.csv', 'w', newline='') as write_obj:\n",
    "    csv_writer = csv.writer(write_obj)\n",
    "    row = ['date', 'state', 'dem_chance', 'rep_chance']\n",
    "    csv_writer.writerow(row)\n",
    "    i = 0\n",
    "    while i < len(df) - 1: \n",
    "        state = df.iloc[i, 1]\n",
    "        date = df.iloc[i, 0]\n",
    "        print(date)\n",
    "        dem_chance = 0\n",
    "        rep_chance = 0\n",
    "        j = i\n",
    "        while df.iloc[j, 1] == state and j < len(df):\n",
    "            if df.iloc[j, 5] == 'DEM':\n",
    "                dem_chance = df.iloc[j,6]\n",
    "            elif df.iloc[j,5] == 'REP':\n",
    "                rep_chance = df.iloc[j,6]\n",
    "            j += 1\n",
    "        if j > i:\n",
    "            csv_writer.writerow([date, state, dem_chance, rep_chance])\n",
    "            i = j\n",
    "        else:\n",
    "            i += 1\n",
    "    "
   ]
  },
  {
   "cell_type": "markdown",
   "metadata": {},
   "source": [
    "### Economist Model"
   ]
  },
  {
   "cell_type": "code",
   "execution_count": 75,
   "metadata": {},
   "outputs": [],
   "source": [
    "df = pd.read_csv('economist_2020.csv')\n",
    "\n",
    "with open('economist_cleaned.csv', 'w', newline='') as write_obj:\n",
    "    csv_writer = csv.writer(write_obj)\n",
    "    row = ['date', 'state', 'dem_chance', 'rep_chance']\n",
    "    csv_writer.writerow(row)\n",
    "    i = 0\n",
    "    while i <(len(df)): \n",
    "        state = df.iloc[i, 3]\n",
    "        date = df.iloc[i, 0]\n",
    "        dem_chance = df.iloc[i, 2]\n",
    "        rep_chance = df.iloc[i + 1, 2]\n",
    "        i += 2\n",
    "        csv_writer.writerow([state, date, dem_chance, rep_chance])"
   ]
  },
  {
   "cell_type": "code",
   "execution_count": null,
   "metadata": {},
   "outputs": [],
   "source": []
  }
 ],
 "metadata": {
  "kernelspec": {
   "display_name": "Python 3",
   "language": "python",
   "name": "python3"
  },
  "language_info": {
   "codemirror_mode": {
    "name": "ipython",
    "version": 3
   },
   "file_extension": ".py",
   "mimetype": "text/x-python",
   "name": "python",
   "nbconvert_exporter": "python",
   "pygments_lexer": "ipython3",
   "version": "3.7.7"
  }
 },
 "nbformat": 4,
 "nbformat_minor": 2
}
