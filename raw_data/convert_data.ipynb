{
 "cells": [
  {
   "cell_type": "markdown",
   "metadata": {},
   "source": [
    "## Reformat Raw Data"
   ]
  },
  {
   "cell_type": "markdown",
   "metadata": {},
   "source": [
    "Reformat the data into the following columns: <br/>\n",
    "date -- date that the model was run<br/>\n",
    "state -- state that we are predicting <br/>\n",
    "dem_chance -- probability that state is won by Joseph Biden (D)<br/>\n",
    "rep_chance -- probability that the state is won by Donald Trump (R)<br/>\n"
   ]
  },
  {
   "cell_type": "code",
   "execution_count": 1,
   "metadata": {},
   "outputs": [],
   "source": [
    "import csv\n",
    "import pandas as pd"
   ]
  },
  {
   "cell_type": "markdown",
   "metadata": {},
   "source": [
    "### 538 Model"
   ]
  },
  {
   "cell_type": "code",
   "execution_count": 3,
   "metadata": {},
   "outputs": [],
   "source": [
    "df = pd.read_csv('538_2020.csv')\n",
    "output = pd.DataFrame()\n",
    "\n",
    "states = []\n",
    "dates = []\n",
    "dem_chances = []\n",
    "\n",
    "for i, row in df.iterrows():\n",
    "    dem_chances.append(df['winstate_chal'][i])\n",
    "    states.append(df['state'][i])\n",
    "    dates.append(df['modeldate'][i])\n",
    "\n",
    "output['date'] = dates\n",
    "output['date']= pd.to_datetime(output['date'])\n",
    "output['state'] = states\n",
    "output['dem_chance'] = dem_chances\n",
    "\n",
    "output = output.sort_values(by=['state', 'date'])\n",
    "output = output[output.state != 'US']\n",
    "output.to_csv('../data/538.csv', index=False)"
   ]
  },
  {
   "cell_type": "code",
   "execution_count": 4,
   "metadata": {},
   "outputs": [
    {
     "name": "stdout",
     "output_type": "stream",
     "text": [
      "{'Maine', 'District of Columbia', 'Rhode Island', 'South Carolina', 'ME-2', 'Pennsylvania', 'Arkansas', 'Tennessee', 'Mississippi', 'Hawaii', 'New Hampshire', 'Colorado', 'ME-1', 'NE-1', 'NE-2', 'Nebraska', 'Alaska', 'Nevada', 'New York', 'New Mexico', 'Alabama', 'South Dakota', 'Utah', 'Michigan', 'New Jersey', 'NE-3', 'Kansas', 'Illinois', 'Georgia', 'Wisconsin', 'California', 'Iowa', 'Idaho', 'Delaware', 'Florida', 'Indiana', 'West Virginia', 'Minnesota', 'Kentucky', 'North Carolina', 'Oklahoma', 'North Dakota', 'Montana', 'Washington', 'Louisiana', 'Missouri', 'Connecticut', 'Ohio', 'Massachusetts', 'Virginia', 'Texas', 'Maryland', 'Oregon', 'Wyoming', 'Arizona', 'Vermont'}\n"
     ]
    }
   ],
   "source": [
    "states_1 = set(output['state'].tolist())\n",
    "print(states_1)"
   ]
  },
  {
   "cell_type": "markdown",
   "metadata": {},
   "source": [
    "### JHK Model"
   ]
  },
  {
   "cell_type": "code",
   "execution_count": 5,
   "metadata": {},
   "outputs": [],
   "source": [
    "df = pd.read_csv('jhk_2020.csv')\n",
    "output = pd.DataFrame()\n",
    "\n",
    "states = []\n",
    "dates = []\n",
    "dem_chances = []\n",
    "\n",
    "dem_party = df['party'] == 'DEM'\n",
    "df = df[dem_party]\n",
    "\n",
    "for i, row in df.iterrows():\n",
    "    states.append(df['state'][i])\n",
    "    dates.append(df['forecastDate'][i])\n",
    "    dem_chances.append(df['win'][i])\n",
    "\n",
    "output['date'] = dates\n",
    "output['date']= pd.to_datetime(output['date'])\n",
    "output['state'] = states\n",
    "output['dem_chance'] = dem_chances\n",
    "\n",
    "output = output.replace({\"Maine CD-1\":\"ME-1\", \"Maine CD-2\":\"ME-2\", \"Nebraska CD-1\":\"NE-1\",\"Nebraska CD-2\":\"NE-2\", \\\n",
    "                         \"Nebraska CD-3\":\"NE-3\"})\n",
    "output = output[output.state != 'US']\n",
    "output = output.sort_values(by=['state', 'date'])\n",
    "output.to_csv('../data/jhk.csv', index=False)"
   ]
  },
  {
   "cell_type": "code",
   "execution_count": 6,
   "metadata": {},
   "outputs": [
    {
     "name": "stdout",
     "output_type": "stream",
     "text": [
      "{'Maine', 'District of Columbia', 'Rhode Island', 'South Carolina', 'ME-2', 'Pennsylvania', 'Arkansas', 'Tennessee', 'Mississippi', 'Hawaii', 'New Hampshire', 'Colorado', 'ME-1', 'NE-1', 'NE-2', 'Nebraska', 'Alaska', 'Nevada', 'New York', 'New Mexico', 'Alabama', 'South Dakota', 'Utah', 'Michigan', 'New Jersey', 'NE-3', 'Kansas', 'Illinois', 'Georgia', 'Wisconsin', 'California', 'Iowa', 'Idaho', 'Delaware', 'Florida', 'Indiana', 'West Virginia', 'Minnesota', 'Kentucky', 'North Carolina', 'Oklahoma', 'North Dakota', 'Montana', 'Washington', 'Louisiana', 'Missouri', 'Connecticut', 'Ohio', 'Massachusetts', 'Virginia', 'Texas', 'Maryland', 'Oregon', 'Wyoming', 'Arizona', 'Vermont'}\n"
     ]
    }
   ],
   "source": [
    "states_2 = set(output['state'].tolist())\n",
    "print(states_2)"
   ]
  },
  {
   "cell_type": "markdown",
   "metadata": {},
   "source": [
    "### Economist Model"
   ]
  },
  {
   "cell_type": "code",
   "execution_count": 7,
   "metadata": {},
   "outputs": [],
   "source": [
    "df = pd.read_csv('economist_2020.csv')\n",
    "output = pd.DataFrame()\n",
    "\n",
    "states = []\n",
    "dates = []\n",
    "dem_chances = []\n",
    "\n",
    "for i, row in df.iterrows():\n",
    "    if i % 2 == 0:\n",
    "        dem_chances.append(df['win_prob'][i])\n",
    "        states.append(df['state'][i])\n",
    "        dates.append(df['date'][i])\n",
    "\n",
    "output['date'] = dates\n",
    "output['date']= pd.to_datetime(output['date'])\n",
    "output['state'] = states\n",
    "output['dem_chance'] = dem_chances\n",
    "\n",
    "output = output[output.state != 'US']\n",
    "output = output.replace(to_replace =\"Washington DC\", \n",
    "                 value =\"District of Columbia\") \n",
    "output = output.sort_values(by=['state', 'date'])\n",
    "output.to_csv('../data/economist.csv', index=False)"
   ]
  },
  {
   "cell_type": "code",
   "execution_count": 8,
   "metadata": {},
   "outputs": [
    {
     "name": "stdout",
     "output_type": "stream",
     "text": [
      "{'Maine', 'District of Columbia', 'Rhode Island', 'South Carolina', 'Pennsylvania', 'Arkansas', 'Tennessee', 'Mississippi', 'Hawaii', 'New Hampshire', 'Colorado', 'Nebraska', 'Alaska', 'Nevada', 'New York', 'New Mexico', 'Alabama', 'South Dakota', 'Utah', 'Michigan', 'New Jersey', 'Kansas', 'Illinois', 'Georgia', 'Wisconsin', 'California', 'Iowa', 'Idaho', 'Delaware', 'Florida', 'Indiana', 'West Virginia', 'Minnesota', 'Kentucky', 'North Carolina', 'Oklahoma', 'North Dakota', 'Montana', 'Washington', 'Louisiana', 'Missouri', 'Connecticut', 'Ohio', 'Massachusetts', 'Virginia', 'Texas', 'Maryland', 'Oregon', 'Wyoming', 'Arizona', 'Vermont'}\n"
     ]
    }
   ],
   "source": [
    "states_3 = set(output['state'].tolist())\n",
    "print(states_3)"
   ]
  },
  {
   "cell_type": "markdown",
   "metadata": {},
   "source": [
    "### Check"
   ]
  },
  {
   "cell_type": "code",
   "execution_count": 9,
   "metadata": {},
   "outputs": [
    {
     "data": {
      "text/plain": [
       "{'Alabama',\n",
       " 'Alaska',\n",
       " 'Arizona',\n",
       " 'Arkansas',\n",
       " 'California',\n",
       " 'Colorado',\n",
       " 'Connecticut',\n",
       " 'Delaware',\n",
       " 'District of Columbia',\n",
       " 'Florida',\n",
       " 'Georgia',\n",
       " 'Hawaii',\n",
       " 'Idaho',\n",
       " 'Illinois',\n",
       " 'Indiana',\n",
       " 'Iowa',\n",
       " 'Kansas',\n",
       " 'Kentucky',\n",
       " 'Louisiana',\n",
       " 'ME-1',\n",
       " 'ME-2',\n",
       " 'Maine',\n",
       " 'Maryland',\n",
       " 'Massachusetts',\n",
       " 'Michigan',\n",
       " 'Minnesota',\n",
       " 'Mississippi',\n",
       " 'Missouri',\n",
       " 'Montana',\n",
       " 'NE-1',\n",
       " 'NE-2',\n",
       " 'NE-3',\n",
       " 'Nebraska',\n",
       " 'Nevada',\n",
       " 'New Hampshire',\n",
       " 'New Jersey',\n",
       " 'New Mexico',\n",
       " 'New York',\n",
       " 'North Carolina',\n",
       " 'North Dakota',\n",
       " 'Ohio',\n",
       " 'Oklahoma',\n",
       " 'Oregon',\n",
       " 'Pennsylvania',\n",
       " 'Rhode Island',\n",
       " 'South Carolina',\n",
       " 'South Dakota',\n",
       " 'Tennessee',\n",
       " 'Texas',\n",
       " 'Utah',\n",
       " 'Vermont',\n",
       " 'Virginia',\n",
       " 'Washington',\n",
       " 'West Virginia',\n",
       " 'Wisconsin',\n",
       " 'Wyoming'}"
      ]
     },
     "execution_count": 9,
     "metadata": {},
     "output_type": "execute_result"
    }
   ],
   "source": [
    "states_1 "
   ]
  },
  {
   "cell_type": "code",
   "execution_count": null,
   "metadata": {},
   "outputs": [],
   "source": []
  }
 ],
 "metadata": {
  "kernelspec": {
   "display_name": "Python 3",
   "language": "python",
   "name": "python3"
  },
  "language_info": {
   "codemirror_mode": {
    "name": "ipython",
    "version": 3
   },
   "file_extension": ".py",
   "mimetype": "text/x-python",
   "name": "python",
   "nbconvert_exporter": "python",
   "pygments_lexer": "ipython3",
   "version": "3.7.7"
  }
 },
 "nbformat": 4,
 "nbformat_minor": 2
}
