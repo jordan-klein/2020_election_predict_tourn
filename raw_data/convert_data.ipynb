{
 "cells": [
  {
   "cell_type": "markdown",
   "metadata": {},
   "source": [
    "## Reformat Raw Data"
   ]
  },
  {
   "cell_type": "markdown",
   "metadata": {},
   "source": [
    "Reformat the data into the following columns: <br/>\n",
    "date -- date that the model was run<br/>\n",
    "state -- state that we are predicting <br/>\n",
    "dem_chance -- probability that state is won by Joseph Biden (D)<br/>\n",
    "rep_chance -- probability that the state is won by Donald Trump (R)<br/>\n"
   ]
  },
  {
   "cell_type": "code",
   "execution_count": 4,
   "metadata": {},
   "outputs": [],
   "source": [
    "import csv\n",
    "import pandas as pd"
   ]
  },
  {
   "cell_type": "markdown",
   "metadata": {},
   "source": [
    "### 538 Model"
   ]
  },
  {
   "cell_type": "code",
   "execution_count": 9,
   "metadata": {},
   "outputs": [],
   "source": [
    "df = pd.read_csv('538_2020.csv')\n",
    "output = pd.DataFrame()\n",
    "\n",
    "states = []\n",
    "dates = []\n",
    "dem_chances = []\n",
    "\n",
    "for i, row in df.iterrows():\n",
    "    dem_chances.append(df['winstate_chal'][i])\n",
    "    states.append(df['state'][i])\n",
    "    dates.append(df['modeldate'][i])\n",
    "\n",
    "output['date'] = dates\n",
    "output['date']= pd.to_datetime(output['date'])\n",
    "output['state'] = states\n",
    "output['dem_chance'] = dem_chances\n",
    "\n",
    "output = output.sort_values(by=['state', 'date'])\n",
    "output = output[output.state != 'US']\n",
    "output.to_csv('../data/538.csv', index=False)"
   ]
  },
  {
   "cell_type": "code",
   "execution_count": 10,
   "metadata": {},
   "outputs": [
    {
     "name": "stdout",
     "output_type": "stream",
     "text": [
      "{'Iowa', 'Delaware', 'Florida', 'NE-3', 'Texas', 'New Hampshire', 'New Mexico', 'Oklahoma', 'Indiana', 'South Dakota', 'Tennessee', 'South Carolina', 'Kentucky', 'Georgia', 'New York', 'Wyoming', 'Hawaii', 'Louisiana', 'Maryland', 'Connecticut', 'Ohio', 'Colorado', 'Maine', 'Montana', 'West Virginia', 'District of Columbia', 'Nebraska', 'Virginia', 'Missouri', 'North Carolina', 'Michigan', 'New Jersey', 'Pennsylvania', 'Oregon', 'North Dakota', 'Utah', 'ME-2', 'Rhode Island', 'Vermont', 'Nevada', 'California', 'NE-1', 'Wisconsin', 'Alaska', 'Minnesota', 'Kansas', 'Idaho', 'Mississippi', 'Washington', 'Illinois', 'NE-2', 'Arkansas', 'Alabama', 'Massachusetts', 'ME-1', 'Arizona'}\n"
     ]
    }
   ],
   "source": [
    "states_1 = set(output['state'].tolist())\n",
    "print(states_1)"
   ]
  },
  {
   "cell_type": "markdown",
   "metadata": {},
   "source": [
    "### JHK Model"
   ]
  },
  {
   "cell_type": "code",
   "execution_count": 14,
   "metadata": {},
   "outputs": [],
   "source": [
    "df = pd.read_csv('jhk_2020.csv')\n",
    "output = pd.DataFrame()\n",
    "\n",
    "states = []\n",
    "dates = []\n",
    "dem_chances = []\n",
    "\n",
    "dem_party = df['party'] == 'DEM'\n",
    "df = df[dem_party]\n",
    "\n",
    "for i, row in df.iterrows():\n",
    "    states.append(df['state'][i])\n",
    "    dates.append(df['forecastDate'][i])\n",
    "    dem_chances.append(df['win'][i])\n",
    "\n",
    "output['date'] = dates\n",
    "output['date']= pd.to_datetime(output['date'])\n",
    "output['state'] = states\n",
    "output['dem_chance'] = dem_chances\n",
    "\n",
    "output = output.replace({\"Maine CD-1\":\"ME-1\", \"Maine CD-2\":\"ME-2\", \"Nebraska CD-1\":\"NE-1\",\"Nebraska CD-2\":\"NE-2\", \\\n",
    "                         \"Nebraska CD-3\":\"NE-3\"})\n",
    "output = output[output.state != 'US']\n",
    "output = output.sort_values(by=['state', 'date'])\n",
    "output.to_csv('../data/jhk.csv', index=False)"
   ]
  },
  {
   "cell_type": "code",
   "execution_count": 15,
   "metadata": {},
   "outputs": [
    {
     "name": "stdout",
     "output_type": "stream",
     "text": [
      "{'Iowa', 'Delaware', 'Florida', 'NE-3', 'Texas', 'New Hampshire', 'New Mexico', 'Oklahoma', 'Indiana', 'South Dakota', 'Tennessee', 'South Carolina', 'Kentucky', 'Georgia', 'New York', 'Wyoming', 'Hawaii', 'Louisiana', 'Maryland', 'Connecticut', 'Ohio', 'Colorado', 'Maine', 'Montana', 'West Virginia', 'District of Columbia', 'Nebraska', 'Virginia', 'Missouri', 'North Carolina', 'Michigan', 'New Jersey', 'Pennsylvania', 'Oregon', 'North Dakota', 'Utah', 'ME-2', 'Rhode Island', 'Vermont', 'Nevada', 'California', 'NE-1', 'Wisconsin', 'Alaska', 'Minnesota', 'Kansas', 'Idaho', 'Mississippi', 'Washington', 'Illinois', 'NE-2', 'Arkansas', 'Alabama', 'Massachusetts', 'ME-1', 'Arizona'}\n"
     ]
    }
   ],
   "source": [
    "states_2 = set(output['state'].tolist())\n",
    "print(states_2)"
   ]
  },
  {
   "cell_type": "markdown",
   "metadata": {},
   "source": [
    "### Economist Model"
   ]
  },
  {
   "cell_type": "code",
   "execution_count": 11,
   "metadata": {},
   "outputs": [],
   "source": [
    "df = pd.read_csv('economist_2020.csv')\n",
    "output = pd.DataFrame()\n",
    "\n",
    "states = []\n",
    "dates = []\n",
    "dem_chances = []\n",
    "\n",
    "for i, row in df.iterrows():\n",
    "    if i % 2 == 0:\n",
    "        dem_chances.append(df['win_prob'][i])\n",
    "        states.append(df['state'][i])\n",
    "        dates.append(df['date'][i])\n",
    "\n",
    "output['date'] = dates\n",
    "output['date']= pd.to_datetime(output['date'])\n",
    "output['state'] = states\n",
    "output['dem_chance'] = dem_chances\n",
    "\n",
    "output = output[output.state != 'US']\n",
    "output = output.replace(to_replace =\"Washington DC\", \n",
    "                 value =\"District of Columbia\") \n",
    "output = output.sort_values(by=['state', 'date'])\n",
    "output.to_csv('../data/economist.csv', index=False)"
   ]
  },
  {
   "cell_type": "code",
   "execution_count": 13,
   "metadata": {},
   "outputs": [
    {
     "name": "stdout",
     "output_type": "stream",
     "text": [
      "{'Iowa', 'Delaware', 'Florida', 'Texas', 'New Hampshire', 'New Mexico', 'Oklahoma', 'Indiana', 'South Dakota', 'Tennessee', 'South Carolina', 'Kentucky', 'Georgia', 'New York', 'Wyoming', 'Hawaii', 'Louisiana', 'Maryland', 'Connecticut', 'Ohio', 'Colorado', 'Maine', 'Montana', 'West Virginia', 'District of Columbia', 'Nebraska', 'Virginia', 'Missouri', 'North Carolina', 'Michigan', 'New Jersey', 'Pennsylvania', 'Oregon', 'North Dakota', 'Utah', 'Rhode Island', 'Vermont', 'Nevada', 'California', 'Wisconsin', 'Alaska', 'Minnesota', 'Kansas', 'Idaho', 'Mississippi', 'Washington', 'Illinois', 'Arkansas', 'Alabama', 'Massachusetts', 'Arizona'}\n"
     ]
    }
   ],
   "source": [
    "states_3 = set(output['state'].tolist())\n",
    "print(states_3)"
   ]
  },
  {
   "cell_type": "markdown",
   "metadata": {},
   "source": [
    "### Check"
   ]
  },
  {
   "cell_type": "code",
   "execution_count": null,
   "metadata": {},
   "outputs": [],
   "source": [
    "states_1 "
   ]
  }
 ],
 "metadata": {
  "kernelspec": {
   "display_name": "Python 3",
   "language": "python",
   "name": "python3"
  },
  "language_info": {
   "codemirror_mode": {
    "name": "ipython",
    "version": 3
   },
   "file_extension": ".py",
   "mimetype": "text/x-python",
   "name": "python",
   "nbconvert_exporter": "python",
   "pygments_lexer": "ipython3",
   "version": "3.7.7"
  }
 },
 "nbformat": 4,
 "nbformat_minor": 2
}
