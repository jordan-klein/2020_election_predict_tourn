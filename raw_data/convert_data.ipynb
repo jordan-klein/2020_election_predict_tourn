{
 "cells": [
  {
   "cell_type": "markdown",
   "metadata": {},
   "source": [
    "## Reformat Raw Data"
   ]
  },
  {
   "cell_type": "markdown",
   "metadata": {},
   "source": [
    "Reformat the data into the following columns: <br/>\n",
    "date -- date that the model was run<br/>\n",
    "state -- state that we are predicting <br/>\n",
    "dem_chance -- probability that state is won by Joseph Biden (D)<br/>\n",
    "rep_chance -- probability that the state is won by Donald Trump (R)<br/>\n"
   ]
  },
  {
   "cell_type": "code",
   "execution_count": 1,
   "metadata": {},
   "outputs": [],
   "source": [
    "import csv\n",
    "import pandas as pd"
   ]
  },
  {
   "cell_type": "markdown",
   "metadata": {},
   "source": [
    "### 538 Model"
   ]
  },
  {
   "cell_type": "code",
   "execution_count": 19,
   "metadata": {},
   "outputs": [],
   "source": [
    "df = pd.read_csv('538_2020.csv')\n",
    "output = pd.DataFrame()\n",
    "\n",
    "states = []\n",
    "dates = []\n",
    "dem_chances = []\n",
    "\n",
    "for i, row in df.iterrows():\n",
    "    dem_chances.append(df['winstate_chal'][i])\n",
    "    states.append(df['state'][i])\n",
    "    dates.append(df['modeldate'][i])\n",
    "\n",
    "output['date'] = dates\n",
    "output['date']= pd.to_datetime(output['date'])\n",
    "output['state'] = states\n",
    "output['dem_chance'] = dem_chances\n",
    "\n",
    "output = output.sort_values(by=['state', 'date'])\n",
    "output = output[output.state != 'US']\n",
    "output.to_csv('../data/538.csv', index=False)"
   ]
  },
  {
   "cell_type": "code",
   "execution_count": 20,
   "metadata": {},
   "outputs": [
    {
     "name": "stdout",
     "output_type": "stream",
     "text": [
      "{'Vermont', 'Arizona', 'Indiana', 'Illinois', 'Pennsylvania', 'South Carolina', 'NE-3', 'ME-1', 'Nevada', 'North Dakota', 'Utah', 'Iowa', 'Hawaii', 'California', 'NE-1', 'Alabama', 'Wisconsin', 'Arkansas', 'Colorado', 'Montana', 'Maryland', 'Missouri', 'Alaska', 'New Mexico', 'Louisiana', 'Rhode Island', 'Washington', 'New York', 'Texas', 'Massachusetts', 'Michigan', 'District of Columbia', 'Kentucky', 'Mississippi', 'New Jersey', 'Virginia', 'Delaware', 'Ohio', 'Oregon', 'Wyoming', 'Minnesota', 'New Hampshire', 'West Virginia', 'Connecticut', 'Georgia', 'Oklahoma', 'South Dakota', 'NE-2', 'Nebraska', 'ME-2', 'Maine', 'Kansas', 'Florida', 'North Carolina', 'Tennessee', 'Idaho'}\n"
     ]
    }
   ],
   "source": [
    "states = set(output['state'].tolist())\n",
    "print(states)"
   ]
  },
  {
   "cell_type": "markdown",
   "metadata": {},
   "source": [
    "### JHK Model"
   ]
  },
  {
   "cell_type": "code",
   "execution_count": 21,
   "metadata": {},
   "outputs": [],
   "source": [
    "df = pd.read_csv('jhk_2020.csv')\n",
    "output = pd.DataFrame()\n",
    "\n",
    "states = []\n",
    "dates = []\n",
    "dem_chances = []\n",
    "\n",
    "dem_party = df['party'] == 'DEM'\n",
    "df = df[dem_party]\n",
    "\n",
    "for i, row in df.iterrows():\n",
    "    states.append(df['state'][i])\n",
    "    dates.append(df['forecastDate'][i])\n",
    "    dem_chances.append(df['win'][i])\n",
    "\n",
    "output['date'] = dates\n",
    "output['date']= pd.to_datetime(output['date'])\n",
    "output['state'] = states\n",
    "output['dem_chance'] = dem_chances\n",
    "\n",
    "output = output.sort_values(by=['state', 'date'])\n",
    "output = output[output.state != 'US']\n",
    "output.to_csv('../data/jhk.csv', index=False)"
   ]
  },
  {
   "cell_type": "code",
   "execution_count": 22,
   "metadata": {},
   "outputs": [
    {
     "name": "stdout",
     "output_type": "stream",
     "text": [
      "{'Vermont', 'Arizona', 'Indiana', 'Maine CD-2', 'Illinois', 'Maine CD-1', 'Pennsylvania', 'South Carolina', 'North Dakota', 'Nevada', 'Utah', 'Iowa', 'Hawaii', 'California', 'Alabama', 'Wisconsin', 'Arkansas', 'Nebraska CD-1', 'Nebraska CD-3', 'Colorado', 'Montana', 'Maryland', 'Missouri', 'Alaska', 'New Mexico', 'Louisiana', 'Rhode Island', 'Washington', 'New York', 'Texas', 'Massachusetts', 'Michigan', 'District of Columbia', 'Kentucky', 'Mississippi', 'New Jersey', 'Virginia', 'Delaware', 'Ohio', 'Oregon', 'Wyoming', 'Minnesota', 'New Hampshire', 'West Virginia', 'Connecticut', 'Georgia', 'Oklahoma', 'South Dakota', 'Nebraska', 'Nebraska CD-2', 'Maine', 'Kansas', 'Florida', 'North Carolina', 'Tennessee', 'Idaho'}\n"
     ]
    }
   ],
   "source": [
    "states = set(output['state'].tolist())\n",
    "print(states)"
   ]
  },
  {
   "cell_type": "markdown",
   "metadata": {},
   "source": [
    "### Economist Model"
   ]
  },
  {
   "cell_type": "code",
   "execution_count": 34,
   "metadata": {},
   "outputs": [],
   "source": [
    "df = pd.read_csv('economist_2020.csv')\n",
    "output = pd.DataFrame()\n",
    "\n",
    "states = []\n",
    "dates = []\n",
    "dem_chances = []\n",
    "\n",
    "for i, row in df.iterrows():\n",
    "    if i % 2 == 0:\n",
    "        dem_chances.append(df['win_prob'][i])\n",
    "        states.append(df['state'][i])\n",
    "        dates.append(df['date'][i])\n",
    "\n",
    "output['date'] = dates\n",
    "output['date']= pd.to_datetime(output['date'])\n",
    "output['state'] = states\n",
    "output['dem_chance'] = dem_chances\n",
    "\n",
    "output = output[output.state != 'US']\n",
    "output = output.replace(to_replace =\"Washington DC\", \n",
    "                 value =\"District of Columbia\") \n",
    "output = output.sort_values(by=['state', 'date'])\n",
    "output.to_csv('../data/economist.csv', index=False)"
   ]
  },
  {
   "cell_type": "code",
   "execution_count": 35,
   "metadata": {},
   "outputs": [
    {
     "name": "stdout",
     "output_type": "stream",
     "text": [
      "{'Vermont', 'Arizona', 'Indiana', 'Illinois', 'Pennsylvania', 'South Carolina', 'North Dakota', 'Nevada', 'Utah', 'Iowa', 'Hawaii', 'California', 'Alabama', 'Wisconsin', 'Arkansas', 'Colorado', 'Montana', 'Maryland', 'Missouri', 'Alaska', 'New Mexico', 'Louisiana', 'Rhode Island', 'Washington', 'New York', 'Texas', 'Massachusetts', 'Michigan', 'District of Columbia', 'Kentucky', 'Mississippi', 'New Jersey', 'Virginia', 'Delaware', 'Ohio', 'Oregon', 'Wyoming', 'Minnesota', 'New Hampshire', 'West Virginia', 'Connecticut', 'Georgia', 'Oklahoma', 'South Dakota', 'Nebraska', 'Maine', 'Kansas', 'Florida', 'North Carolina', 'Tennessee', 'Idaho'}\n"
     ]
    }
   ],
   "source": [
    "states = set(output['state'].tolist())\n",
    "print(states)"
   ]
  },
  {
   "cell_type": "code",
   "execution_count": null,
   "metadata": {},
   "outputs": [],
   "source": []
  }
 ],
 "metadata": {
  "kernelspec": {
   "display_name": "Python 3",
   "language": "python",
   "name": "python3"
  },
  "language_info": {
   "codemirror_mode": {
    "name": "ipython",
    "version": 3
   },
   "file_extension": ".py",
   "mimetype": "text/x-python",
   "name": "python",
   "nbconvert_exporter": "python",
   "pygments_lexer": "ipython3",
   "version": "3.7.7"
  }
 },
 "nbformat": 4,
 "nbformat_minor": 2
}
